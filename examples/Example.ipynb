{
 "cells": [
  {
   "cell_type": "markdown",
   "metadata": {},
   "source": [
    "##### This notebook shows how to build and reduce a scenario tree out of a scenario fan using scenred2\n",
    "##### The scenred2.jl package tree and fan structures are converted into directed graphs of lighgraphs package to be plot using TikzGraphs and TikzPictures\n",
    "##### If you don't want to plot or install tikz packages you can delete all lines containing TikzGraphs and TikzPictures and still run the scenario tree construction"
   ]
  },
  {
   "cell_type": "code",
   "execution_count": 1,
   "metadata": {},
   "outputs": [
    {
     "name": "stderr",
     "output_type": "stream",
     "text": [
      "┌ Info: Recompiling stale cache file /home/trigaut/.julia/compiled/v1.1/Scenred2/zID64.ji for Scenred2 [0e4f4fc0-a3db-11e9-2d6b-21ae4bb03508]\n",
      "└ @ Base loading.jl:1184\n"
     ]
    }
   ],
   "source": [
    "using Scenred2, LightGraphs, TikzGraphs, TikzPictures, DelimitedFiles"
   ]
  },
  {
   "cell_type": "code",
   "execution_count": 2,
   "metadata": {},
   "outputs": [
    {
     "data": {
      "text/plain": [
       "Scenred2Fan(5, 19, 2, Scenred2Scenario[Scenred2Scenario(0.0133, [0.676 0.459; 0.267 0.925; … ; 0.074 0.589; 0.275 0.438]), Scenred2Scenario(0.0514, [0.718 0.744; 0.098 0.638; … ; 0.719 0.696; 0.627 0.92]), Scenred2Scenario(0.0, [0.26 0.709; 0.628 0.817; … ; 0.331 0.486; 0.755 0.62]), Scenred2Scenario(0.0616, [0.143 0.643; 0.13 0.95; … ; 0.993 0.116; 0.019 0.327]), Scenred2Scenario(0.0524, [0.749 0.28; 0.597 0.479; … ; 0.128 0.118; 0.717 0.697]), Scenred2Scenario(0.0788, [0.24 0.776; 0.772 0.406; … ; 0.571 0.72; 0.333 0.256]), Scenred2Scenario(0.0563, [0.053 0.045; 0.341 0.186; … ; 0.194 0.114; 0.678 0.883]), Scenred2Scenario(0.0201, [0.687 0.54; 0.605 0.586; … ; 0.634 0.038; 0.784 0.585]), Scenred2Scenario(0.0142, [0.229 0.587; 0.119 0.358; … ; 0.968 0.484; 0.428 0.5]), Scenred2Scenario(0.0457, [0.484 0.075; 0.013 0.159; … ; 0.914 0.751; 0.541 0.888]), Scenred2Scenario(0.0825, [0.195 0.069; 0.203 0.8; … ; 0.449 0.653; 0.687 0.341]), Scenred2Scenario(0.0751, [0.716 0.305; 0.763 0.907; … ; 0.936 0.987; 0.855 0.944]), Scenred2Scenario(0.0627, [0.381 0.639; 0.386 0.424; … ; 0.621 0.473; 0.362 0.792]), Scenred2Scenario(0.0331, [0.922 0.411; 0.383 0.883; … ; 0.393 0.658; 0.983 0.904]), Scenred2Scenario(0.073, [0.158 0.259; 0.722 0.633; … ; 0.514 0.479; 0.81 0.313]), Scenred2Scenario(0.0789, [0.933 0.945; 0.121 0.84; … ; 0.157 0.598; 0.463 0.235]), Scenred2Scenario(0.0726, [0.763 0.757; 0.231 0.64; … ; 0.065 0.212; 0.814 0.691]), Scenred2Scenario(0.0802, [0.199 0.941; 0.209 0.822; … ; 0.279 0.4; 0.062 0.725]), Scenred2Scenario(0.0481, [0.593 0.893; 0.619 0.173; … ; 0.596 0.847; 0.509 0.692])])"
      ]
     },
     "execution_count": 2,
     "metadata": {},
     "output_type": "execute_result"
    }
   ],
   "source": [
    "T = 5 #number of time steps\n",
    "S = 19 # number of scenarios\n",
    "R = 2 # number of random variables\n",
    "\n",
    "# we create randomly a discrete probability distribution for the S scenarios\n",
    "probas = rand(S)\n",
    "probas = round.(10000 .* probas./sum(probas)) ./ 10000\n",
    "probas[end] = 1-sum(probas[1:end-1])\n",
    "\n",
    "# we create S random scenarios\n",
    "scenarios = [Scenred2Scenario(p, round.(1000 .* rand(T,R)) ./ 1000) for p in probas ]\n",
    "\n",
    "# We build a fan out of the S scenarios associated with their probability\n",
    "fan = Scenred2Fan(T,S,R,scenarios)"
   ]
  },
  {
   "cell_type": "code",
   "execution_count": 3,
   "metadata": {},
   "outputs": [
    {
     "name": "stderr",
     "output_type": "stream",
     "text": [
      "┌ Warning: fan.pdf already exists, overwriting!\n",
      "└ @ TikzPictures /home/trigaut/.julia/packages/TikzPictures/x0ZWu/src/TikzPictures.jl:244\n"
     ]
    }
   ],
   "source": [
    "# if the fan is reasonably small we plot and save it using tikzgraphs \n",
    "if S<20\n",
    "    fdg = DiGraph(fan) #we convert the fan into a directed graph of lightgraphs\n",
    "    ft=TikzGraphs.plot(fdg[1], string.(fdg[3]), edge_labels = fdg[2] ) #we plot the digraph\n",
    "    TikzPictures.save(PDF(\"fan\"), ft) #we save it as fan.pdf in the active directory\n",
    "end"
   ]
  },
  {
   "cell_type": "code",
   "execution_count": 4,
   "metadata": {},
   "outputs": [
    {
     "name": "stdout",
     "output_type": "stream",
     "text": [
      "\n",
      "***********************************************\n",
      "*  SCENARIO TREE CONSTRUCTION / REDUCTION     *\n",
      "*                                             *\n",
      "*  S C E N R E D - 2                          *\n",
      "*                                             *\n",
      "*  VERSION: 12/12/2008                        *\n",
      "*                                             *\n",
      "*  (C) - Humboldt-University Berlin           *\n",
      "*        Institute of Mathematics             *\n",
      "*        Written by: Holger Heitsch           *\n",
      "*                                             *\n",
      "***********************************************\n",
      "\n",
      "YOU ARE EXECUTING THE COMMAND LINE VERSION\n",
      "\n",
      "MAIN: READ COMMAND FILE\n",
      "    OUTPUT OF TREE\n",
      "    TREE CONSTRUCTION SELECTED\n",
      "    READ SCENARIO PARAMETERS\n",
      "MAIN: READ COMMAND FILE DONE\n",
      "MAIN: START TREE CONSTRUCTION\n",
      "    DETECT CONSTRUCTION METHOD\n",
      "    CONSTRUCTION METHOD BACKWARD\n",
      "    READ CONSTRUCTION OPTIONS\n",
      "    ASSIGN SCENARIO DISTANCES\n",
      "    START BACKWARD TREE CONSTRUCTION\n",
      "      REDUCTION METHOD: FORWARD\n",
      "    *** SCENARIO TREE CONSTRUCTION SUCCESSFUL\n",
      "    CONSTRUCTION SUMMARY\n",
      "      CONSTRUCT METHOD: BACKWARD ITERATION\n",
      "      REDUCTION METHOD: FORWARD SELECTION\n",
      "      METRIC TYPE     : WASSERSTEIN ORDER 1\n",
      "      EPSILON GROWTH  : EXPONENTIAL -> SLOPE 0.4045\n",
      "      PERCENTAGE (<)  :     0.80\n",
      "      TOTAL TIME      :     0.00 (sec)\n",
      "        SCENARIO DIST :     0.00 (sec)\n",
      "        CONSTRUCT TIME:     0.00 (sec)\n",
      "      PROB DISTANCES  : <  79.90 (RELATIVE)\n",
      "                        INITIAL       REDUCED\n",
      "      SCENARIOS -            19             7\n",
      "      NODES     -            77            14\n",
      "      STAGES    -             2             4\n",
      "    TREE CONSTRUCTION DONE\n",
      "MAIN: WRITING TREE\n",
      "    TREE DATA FILE </home/trigaut/.julia/dev/Scenred2/deps/../tmp/scenred2Out.dat>\n",
      "\n"
     ]
    },
    {
     "data": {
      "text/plain": [
       "Scenred2Tree(14, 2, Scenred2Node[Scenred2Node(1, 1.0, [0.4643, 0.534]), Scenred2Node(1, 1.0, [0.203, 0.8]), Scenred2Node(2, 0.7133, [0.4, 0.309]), Scenred2Node(2, 0.2867, [0.763, 0.869]), Scenred2Node(3, 0.4503, [0.449, 0.653]), Scenred2Node(3, 0.263, [0.065, 0.212]), Scenred2Node(4, 0.2867, [0.621, 0.473]), Scenred2Node(5, 0.2817, [0.687, 0.341]), Scenred2Node(5, 0.0751, [0.855, 0.944]), Scenred2Node(5, 0.0935, [0.062, 0.725]), Scenred2Node(6, 0.0616, [0.019, 0.327]), Scenred2Node(6, 0.2014, [0.814, 0.691]), Scenred2Node(7, 0.0788, [0.333, 0.256]), Scenred2Node(7, 0.2079, [0.362, 0.792])])"
      ]
     },
     "execution_count": 4,
     "metadata": {},
     "output_type": "execute_result"
    }
   ],
   "source": [
    "prms = Scenred2Prms(red_percentage = 0.5) # we define scenred2 parameters, all default except the reduction percentage\n",
    "\n",
    "tree = Scenred2Tree(fan, prms) # we build a tree out of the fan calling scenred2 with the parameters"
   ]
  },
  {
   "cell_type": "code",
   "execution_count": 5,
   "metadata": {},
   "outputs": [
    {
     "data": {
      "text/plain": [
       "({14, 13} directed simple Int64 graph, Dict{Any,Any}((3, 6)=>0.263,(2, 3)=>0.7133,(7, 13)=>0.0788,(6, 12)=>0.2014,(4, 7)=>0.2867,(5, 9)=>0.0751,(5, 10)=>0.0935,(5, 8)=>0.2817,(2, 4)=>0.2867,(1, 2)=>1.0…), Array{Float64,1}[[0.4643, 0.534], [0.203, 0.8], [0.4, 0.309], [0.763, 0.869], [0.449, 0.653], [0.065, 0.212], [0.621, 0.473], [0.687, 0.341], [0.855, 0.944], [0.062, 0.725], [0.019, 0.327], [0.814, 0.691], [0.333, 0.256], [0.362, 0.792]])"
      ]
     },
     "execution_count": 5,
     "metadata": {},
     "output_type": "execute_result"
    }
   ],
   "source": [
    "dg = DiGraph(tree) #we convert the tree as a directed graph"
   ]
  },
  {
   "cell_type": "code",
   "execution_count": 6,
   "metadata": {},
   "outputs": [
    {
     "data": {
      "text/plain": [
       "TikzPicture(\"\\\\graph [layered layout, ] {\\n1/\\\"[0.4643, 0.534]\\\" [],\\n2/\\\"[0.203, 0.8]\\\" [],\\n3/\\\"[0.4, 0.309]\\\" [],\\n4/\\\"[0.763, 0.869]\\\" [],\\n5/\\\"[0.449, 0.653]\\\" [],\\n6/\\\"[0.065, 0.212]\\\" [],\\n7/\\\"[0.621, 0.473]\\\" [],\\n8/\\\"[0.687, 0.341]\\\" [],\\n9/\\\"[0.855, 0.944]\\\" [],\\n10/\\\"[0.062, 0.725]\\\" [],\\n11/\\\"[0.019, 0.327]\\\" [],\\n12/\\\"[0.814, 0.691]\\\" [],\\n13/\\\"[0.333, 0.256]\\\" [],\\n14/\\\"[0.362, 0.792]\\\" [],\\n;\\n1 -> [,edge label={1.0},] 2;\\n2 -> [,edge label={0.7133},] 3;\\n2 -> [,edge label={0.2867},] 4;\\n3 -> [,edge label={0.4503},] 5;\\n3 -> [,edge label={0.263},] 6;\\n4 -> [,edge label={0.2867},] 7;\\n5 -> [,edge label={0.2817},] 8;\\n5 -> [,edge label={0.0751},] 9;\\n5 -> [,edge label={0.0935},] 10;\\n6 -> [,edge label={0.0616},] 11;\\n6 -> [,edge label={0.2014},] 12;\\n7 -> [,edge label={0.0788},] 13;\\n7 -> [,edge label={0.2079},] 14;\\n};\\n\", \"\", \"\\\\usepackage{fontspec}\\n\\\\setmainfont{Latin Modern Math}\\n\\\\usetikzlibrary{graphs}\\n\\\\usetikzlibrary{graphdrawing}\\n\\n% from: https://tex.stackexchange.com/questions/453132/fresh-install-of-tl2018-no-tikz-graph-drawing-libraries-found\\n\\\\usepackage{luacode}\\n\\\\begin{luacode*}\\n\\tfunction pgf_lookup_and_require(name)\\n\\tlocal sep = package.config:sub(1,1)\\n\\tlocal function lookup(name)\\n\\tlocal sub = name:gsub('%.',sep)  \\n\\tif kpse.find_file(sub, 'lua') then\\n\\trequire(name)\\n\\telseif kpse.find_file(sub, 'clua') then\\n\\tcollectgarbage('stop') \\n\\trequire(name)\\n\\tcollectgarbage('restart')\\n\\telse\\n\\treturn false\\n\\tend\\n\\treturn true\\n\\tend\\n\\treturn\\n\\tlookup('pgf.gd.' .. name .. '.library') or\\n\\tlookup('pgf.gd.' .. name) or\\n\\tlookup(name .. '.library') or\\n\\tlookup(name) \\n\\tend\\n\\\\end{luacode*}\\n\\n\\\\usegdlibrary{layered}\", true)"
      ]
     },
     "execution_count": 6,
     "metadata": {},
     "output_type": "execute_result"
    }
   ],
   "source": [
    "t=TikzGraphs.plot(dg[1], string.(dg[3]), edge_labels = dg[2] ) #we plot it"
   ]
  },
  {
   "cell_type": "code",
   "execution_count": 7,
   "metadata": {},
   "outputs": [
    {
     "name": "stderr",
     "output_type": "stream",
     "text": [
      "┌ Warning: tree.pdf already exists, overwriting!\n",
      "└ @ TikzPictures /home/trigaut/.julia/packages/TikzPictures/x0ZWu/src/TikzPictures.jl:244\n"
     ]
    }
   ],
   "source": [
    "TikzPictures.save(PDF(\"tree\"), t) #we save it as tree.pdf in the active directory"
   ]
  },
  {
   "cell_type": "code",
   "execution_count": 8,
   "metadata": {},
   "outputs": [
    {
     "name": "stdout",
     "output_type": "stream",
     "text": [
      "\n",
      "***********************************************\n",
      "*  SCENARIO TREE CONSTRUCTION / REDUCTION     *\n",
      "*                                             *\n",
      "*  S C E N R E D - 2                          *\n",
      "*                                             *\n",
      "*  VERSION: 12/12/2008                        *\n",
      "*                                             *\n",
      "*  (C) - Humboldt-University Berlin           *\n",
      "*        Institute of Mathematics             *\n",
      "*        Written by: Holger Heitsch           *\n",
      "*                                             *\n",
      "***********************************************\n",
      "\n",
      "YOU ARE EXECUTING THE COMMAND LINE VERSION\n",
      "\n",
      "MAIN: READ COMMAND FILE\n",
      "    OUTPUT OF TREE\n",
      "    SCENRED SELECTED\n",
      "    READ SCENARIO PARAMETERS\n",
      "MAIN: READ COMMAND FILE DONE\n",
      "MAIN: START SCENRED \n",
      "    READING SCENRED OPTIONS\n",
      "    ASSIGN SCENARIO DISTANCES\n",
      "    START SCENARIO REDUCTION\n",
      "      METHOD: FORWARD SELECTION\n",
      "        START FORWARD ITERATION\n",
      "    *** SCENARIO REDUCTION SUCCESSFUL\n",
      "    SCENRED SUMMARY\n",
      "      REDUCTION METHOD: FORWARD SELECTION\n",
      "      METRIC TYPE     : TRANSPORT ORDER 1\n",
      "      PERCENTAGE      :     0.52\n",
      "      TOTAL TIME      :     0.00 (sec)\n",
      "        SCENARIO DIST :     0.00 (sec)\n",
      "        REDUCTION TIME:     0.00 (sec)\n",
      "      PROB DISTANCES  :   0.6111 (ABSOLUTE)\n",
      "                           51.53 (RELATIVE)\n",
      "                        INITIAL       REDUCED\n",
      "      SCENARIOS -             7             2\n",
      "      NODES     -            14             8\n",
      "      STAGES    -             3             2\n",
      "    SCENARIO REDUCTION DONE\n",
      "MAIN: WRITING TREE\n",
      "    TREE DATA FILE </home/trigaut/.julia/dev/Scenred2/deps/../tmp/scenred2Out.dat>\n",
      "\n"
     ]
    },
    {
     "data": {
      "text/plain": [
       "Scenred2Tree(8, 2, Scenred2Node[Scenred2Node(1, 1.0, [0.4643, 0.534]), Scenred2Node(1, 1.0, [0.203, 0.8]), Scenred2Node(2, 0.7133, [0.4, 0.309]), Scenred2Node(2, 0.2867, [0.763, 0.869]), Scenred2Node(3, 0.7133, [0.449, 0.653]), Scenred2Node(4, 0.2867, [0.621, 0.473]), Scenred2Node(5, 0.7133, [0.687, 0.341]), Scenred2Node(6, 0.2867, [0.362, 0.792])])"
      ]
     },
     "execution_count": 8,
     "metadata": {},
     "output_type": "execute_result"
    }
   ],
   "source": [
    "rprms = Scenred2Prms(red_percentage = 0.8) #we define new reduction parameters\n",
    "rtree = Scenred2.reduce_tree(tree, rprms) #we reduce the previously constructed tree"
   ]
  },
  {
   "cell_type": "code",
   "execution_count": 9,
   "metadata": {},
   "outputs": [
    {
     "data": {
      "text/plain": [
       "({8, 7} directed simple Int64 graph, Dict{Any,Any}((1, 2)=>1.0,(2, 3)=>0.7133,(2, 4)=>0.2867,(6, 8)=>0.2867,(4, 6)=>0.2867,(3, 5)=>0.7133,(5, 7)=>0.7133), Array{Float64,1}[[0.4643, 0.534], [0.203, 0.8], [0.4, 0.309], [0.763, 0.869], [0.449, 0.653], [0.621, 0.473], [0.687, 0.341], [0.362, 0.792]])"
      ]
     },
     "execution_count": 9,
     "metadata": {},
     "output_type": "execute_result"
    }
   ],
   "source": [
    "rg = DiGraph(rtree) #we convert it into a directed graph"
   ]
  },
  {
   "cell_type": "code",
   "execution_count": 11,
   "metadata": {},
   "outputs": [
    {
     "data": {
      "text/plain": [
       "TikzPicture(\"\\\\graph [layered layout, ] {\\n1/\\\"[0.4643, 0.534]\\\" [],\\n2/\\\"[0.203, 0.8]\\\" [],\\n3/\\\"[0.4, 0.309]\\\" [],\\n4/\\\"[0.763, 0.869]\\\" [],\\n5/\\\"[0.449, 0.653]\\\" [],\\n6/\\\"[0.621, 0.473]\\\" [],\\n7/\\\"[0.687, 0.341]\\\" [],\\n8/\\\"[0.362, 0.792]\\\" [],\\n;\\n1 -> [,edge label={1.0},] 2;\\n2 -> [,edge label={0.7133},] 3;\\n2 -> [,edge label={0.2867},] 4;\\n3 -> [,edge label={0.7133},] 5;\\n4 -> [,edge label={0.2867},] 6;\\n5 -> [,edge label={0.7133},] 7;\\n6 -> [,edge label={0.2867},] 8;\\n};\\n\", \"\", \"\\\\usepackage{fontspec}\\n\\\\setmainfont{Latin Modern Math}\\n\\\\usetikzlibrary{graphs}\\n\\\\usetikzlibrary{graphdrawing}\\n\\n% from: https://tex.stackexchange.com/questions/453132/fresh-install-of-tl2018-no-tikz-graph-drawing-libraries-found\\n\\\\usepackage{luacode}\\n\\\\begin{luacode*}\\n\\tfunction pgf_lookup_and_require(name)\\n\\tlocal sep = package.config:sub(1,1)\\n\\tlocal function lookup(name)\\n\\tlocal sub = name:gsub('%.',sep)  \\n\\tif kpse.find_file(sub, 'lua') then\\n\\trequire(name)\\n\\telseif kpse.find_file(sub, 'clua') then\\n\\tcollectgarbage('stop') \\n\\trequire(name)\\n\\tcollectgarbage('restart')\\n\\telse\\n\\treturn false\\n\\tend\\n\\treturn true\\n\\tend\\n\\treturn\\n\\tlookup('pgf.gd.' .. name .. '.library') or\\n\\tlookup('pgf.gd.' .. name) or\\n\\tlookup(name .. '.library') or\\n\\tlookup(name) \\n\\tend\\n\\\\end{luacode*}\\n\\n\\\\usegdlibrary{layered}\", true)"
      ]
     },
     "execution_count": 11,
     "metadata": {},
     "output_type": "execute_result"
    }
   ],
   "source": [
    "rt = TikzGraphs.plot(rg[1], string.(rg[3]), edge_labels = rg[2] ) #we plot it"
   ]
  },
  {
   "cell_type": "code",
   "execution_count": 12,
   "metadata": {},
   "outputs": [],
   "source": [
    "TikzPictures.save(PDF(\"reduced_tree\"), rt) #we save it as reduced_tree.pdf in the active directory"
   ]
  },
  {
   "cell_type": "code",
   "execution_count": null,
   "metadata": {},
   "outputs": [],
   "source": []
  }
 ],
 "metadata": {
  "@webio": {
   "lastCommId": null,
   "lastKernelId": null
  },
  "kernelspec": {
   "display_name": "Julia 1.1.0",
   "language": "julia",
   "name": "julia-1.1"
  },
  "language_info": {
   "file_extension": ".jl",
   "mimetype": "application/julia",
   "name": "julia",
   "version": "1.1.0"
  }
 },
 "nbformat": 4,
 "nbformat_minor": 2
}
